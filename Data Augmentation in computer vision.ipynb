{
 "cells": [
  {
   "attachments": {},
   "cell_type": "markdown",
   "metadata": {},
   "source": [
    "# Data augmentation in computer vision\n",
    "### Introduction\n",
    "As you’ve seen, a well-designed data augmentation setup is crucial for the efficient use of training data in deep learning. For image-based problems, several standard methods augment the training set, e.g., rotations, flips, translation, and more. However, there’s a continuous stream of research and development aimed at creating more advanced, and ideally more powerful, data augmentation techniques. This project will explore these developments and provide a careful setup for evaluating the many methods: their strengths and weaknesses. It will also attempt to clarify what problems and situations fit with what data augmentation techniques and assist other developers in their choice and design of data augmentation setups. \n",
    "\n",
    "### Goals\n",
    "- Explore the many existing techniques for data augmentation in deep learning for computer \n",
    "vision \n",
    "- Design an experimental setup where you can evaluate the effect of applying these methods on \n",
    "a fixed set of data sets and problems. \n",
    "- Create a library, or at least some very well-thought-out examples, that make it easy for others to reuse what you’ve done in this project on their own image data.  \n",
    "\n",
    "### Methods and materials\n",
    "- Data: The image data sets are listed under “External datasets” in fastai. For example, the \n",
    "IMAGENETTE data set. \n",
    "- Methods: through the fastai course and library, you have been exposed to some basic data \n",
    "augmentation techniques (rotation, flips, image intensity variation) and some more advanced \n",
    "methods (MixUp, CutMix, and more). A substantial part of this project will be to explore, try, \n",
    "and perhaps extend what’s out there for data augmentation in computer vision. "
   ]
  },
  {
   "attachments": {},
   "cell_type": "markdown",
   "metadata": {},
   "source": [
    "### What’s expected \n",
    "At the project deadline, you'll hand in source code, documentation, and potentially other \n",
    "artifacts from your work. Precisely what is partly up to you: \n",
    "- Required: A link to a well-documented online Git repository containing all the code and \n",
    "documentation necessary to understand and reproduce your work, including code to \n",
    "create and run any applications you've made. You also must explain the larger context \n",
    "to which your work belongs, for example, in a readme file in your repository. \n",
    "- Recommended: An application running in the cloud or that can be installed on a \n",
    "computer or a mobile device. The setup from Module 2 will get you quite far (Gradio + \n",
    "HuggingFace Spaces or similar), but feel free to be more ambitious.  \n",
    "- Recommended: A blog post explaining the background of your project, its objectives, \n",
    "what methods and data you used, and what you achieved. The post should target a \n",
    "broad audience. For example, other software engineering students with little knowledge \n",
    "of the application domain and the relevant methods. fastpages is a good blogging \n",
    "solution.  "
   ]
  },
  {
   "cell_type": "code",
   "execution_count": null,
   "metadata": {},
   "outputs": [],
   "source": []
  }
 ],
 "metadata": {
  "language_info": {
   "name": "python"
  },
  "orig_nbformat": 4
 },
 "nbformat": 4,
 "nbformat_minor": 2
}
